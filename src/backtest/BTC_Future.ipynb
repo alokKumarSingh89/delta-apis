{
 "cells": [
  {
   "cell_type": "code",
   "execution_count": 1,
   "id": "4abc5ee8-270d-481d-b1f4-8ff8edd47663",
   "metadata": {},
   "outputs": [],
   "source": [
    "import pandas as pd\n",
    "import httpx\n",
    "import time\n",
    "from datetime import datetime, timedelta\n",
    "import pandas_ta as ta\n",
    "from DeltaExchange import DeltaExchange"
   ]
  },
  {
   "cell_type": "code",
   "execution_count": 3,
   "id": "108e84aa-8281-4829-bd39-0f88be18d7a2",
   "metadata": {},
   "outputs": [],
   "source": [
    "class Future_Trade(DeltaExchange):\n",
    "    def __init__(self, symbol, str_diff, days=3, resolution='1h'):\n",
    "        super().__init__(symbol)\n",
    "        self.days = days\n",
    "        self.resolution = resolution\n",
    "        self.str_diff  = str_diff\n",
    "    def get_candle(self,end):\n",
    "        start = end - timedelta(days=self.days)\n",
    "        start = (time.mktime(start.timetuple()))+19800\n",
    "        end = (time.mktime(end.timetuple()))+19800\n",
    "        res = self.get_historical_data(start=start, end=end, time_frame=self.resolution)\n",
    "        df = pd.DataFrame(res[\"result\"])\n",
    "        df[\"date\"] = pd.to_datetime(df['time'], unit='s') + pd.Timedelta(hours=5, minutes=30)\n",
    "        df = df.sort_values(by='time', ascending=True)\n",
    "        df = df.reset_index()\n",
    "        df = self.calculate_heikin_ashi(df,diff=1)\n",
    "        return df\n",
    "    def get_ltp(self, strick):\n",
    "        res = self.ticker_symbol(strick)\n",
    "        return res[\"result\"][\"close\"]\n",
    "    def get_strick(self,end,ltp, otm=1, type=\"C\"):\n",
    "        now = end\n",
    "        expiry = \"\"\n",
    "        if now.hour >= 17 or (now.hour == 17 and now.minute >= 29):\n",
    "            now += timedelta(days=1)\n",
    "            expiry = f\"{str(now.day).zfill(2)}{str(now.month).zfill(2)}{str(now.year)[2:]}\"\n",
    "        else:\n",
    "            expiry = f\"{str(now.day).zfill(2)}{str(now.month).zfill(2)}{str(now.year)[2:]}\"\n",
    "        \n",
    "        atm = round(ltp / self.str_diff) * self.str_diff\n",
    "        print(f\"ATM={atm}, OTM_Strick={otm*self.str_diff}, strick={atm+otm*self.str_diff}\")\n",
    "        return f\"{type}-{self.symbol[:-3]}-{atm+otm*self.str_diff}-{expiry}\"\n",
    "    def get_strick_premium(self, strick, end, resolution=\"5m\"): #Only for back test\n",
    "        start = end - timedelta(days=self.days)\n",
    "        start = (time.mktime(start.timetuple()))+19800\n",
    "        end = (time.mktime(end.timetuple()))+19800\n",
    "        res = self.get_historical_data(start=start, end=end, time_frame=resolution, symbol=strick)\n",
    "        df = pd.DataFrame(res[\"result\"])\n",
    "        df[\"date\"] = pd.to_datetime(df['time'], unit='s') + pd.Timedelta(hours=5, minutes=30)\n",
    "        df = df.sort_values(by='time', ascending=True)\n",
    "        df = df.reset_index()\n",
    "        return df[\"close\"].iloc[0]"
   ]
  },
  {
   "cell_type": "code",
   "execution_count": 9,
   "id": "add349bd-51d1-4192-bc18-7a541a3c52d5",
   "metadata": {},
   "outputs": [
    {
     "name": "stdout",
     "output_type": "stream",
     "text": [
      "ATM=83000, OTM_Strick=200, strick=83200\n"
     ]
    },
    {
     "data": {
      "text/plain": [
       "'P-BTC-83200-060425'"
      ]
     },
     "execution_count": 9,
     "metadata": {},
     "output_type": "execute_result"
    }
   ],
   "source": [
    "f.get_strick(end, ltp, type=\"P\")"
   ]
  },
  {
   "cell_type": "code",
   "execution_count": 11,
   "id": "c48fb782-a2d4-49aa-a33c-858fd3f6738a",
   "metadata": {},
   "outputs": [
    {
     "name": "stdout",
     "output_type": "stream",
     "text": [
      "P-BTC-83200-060425 n_symbol\n"
     ]
    },
    {
     "data": {
      "text/plain": [
       "1170.0"
      ]
     },
     "execution_count": 11,
     "metadata": {},
     "output_type": "execute_result"
    }
   ],
   "source": [
    "f.get_strick_premium(strick='P-BTC-83200-060425', end=end)"
   ]
  },
  {
   "cell_type": "code",
   "execution_count": 35,
   "id": "beabf81a-f345-4ce1-8fc6-29483491bbd7",
   "metadata": {},
   "outputs": [],
   "source": [
    "def get_future(symbol,diff, end):\n",
    "    f = Future_Trade(symbol, str_diff=diff)\n",
    "    df = f.get_candle(end=end)\n",
    "    df = f.add_supertrande(df.copy())\n",
    "    return df[\"close\"].iloc[0], df[\"SUPERTd_10_3.0\"].iloc[0]"
   ]
  },
  {
   "cell_type": "code",
   "execution_count": 41,
   "id": "525ee9b6-7dde-4225-8e49-8da2329e9fcd",
   "metadata": {},
   "outputs": [],
   "source": [
    "def check_avg_condition(ltp):\n",
    "    pass"
   ]
  },
  {
   "cell_type": "code",
   "execution_count": 65,
   "id": "63ec8946-ed4c-4427-9c93-58407eb2fb7c",
   "metadata": {},
   "outputs": [],
   "source": [
    "def close_position(position):\n",
    "    if position[\"current\"].get(\"future\") is not None:\n",
    "        pass\n",
    "    else:\n",
    "        print(\"New Trade\")\n",
    "\n",
    "def place_trade(position, ltp, direction):\n",
    "    print(position, ltp, direction)\n",
    "    if direction == 1:\n",
    "        atm_strick = f.get_strick(end, ltp,otm=-1 type=\"C\")\n",
    "        hedge_strick = f.get_strick(end, ltp,otm=-position[\"hedge_level\"] type=\"C\")\n",
    "        future_ltp = f.get_strick_premium(strick=)\n",
    "    elif direction == -1:\n",
    "        pass"
   ]
  },
  {
   "cell_type": "code",
   "execution_count": 67,
   "id": "6d19681d-c46e-4eb4-b217-5a822301f7cd",
   "metadata": {},
   "outputs": [
    {
     "name": "stdout",
     "output_type": "stream",
     "text": [
      "BTCUSD n_symbol\n",
      "New Trade\n",
      "{'current': {}, 'cosed': [], 'avg_level': 1000, 'hedge_levele': 7} 94555.0 1\n"
     ]
    }
   ],
   "source": [
    "def process():\n",
    "    position = {\n",
    "        \"current\":{},\n",
    "        \"cosed\":[],\n",
    "        \"avg_level\":1000,\n",
    "        \"hedge_level\":7\n",
    "    }\n",
    "    symbol\n",
    "    end = datetime(year=2024, month=12, day=31, hour=12, minute=00)\n",
    "    ltp, direction = get_future(\"BTCUSD\",200, end)\n",
    "    prev_direction = None\n",
    "    if direction != prev_direction: #Bullis\n",
    "        close_position(position)\n",
    "        place_trade(position, ltp, direction)\n",
    "    elif check_avg_condition(ltp):\n",
    "        pass\n",
    "      \n",
    "    \n",
    "    # while True:\n",
    "    #     if direction == 1: #Bullish Condition\n",
    "    #         if position.get(\"trade\") is None:\n",
    "process()             "
   ]
  },
  {
   "cell_type": "code",
   "execution_count": 39,
   "id": "cb421576-334d-424d-bb41-54be7c2fa6ad",
   "metadata": {},
   "outputs": [
    {
     "name": "stdout",
     "output_type": "stream",
     "text": [
      "BTCUSD n_symbol\n",
      "1 94555.0\n"
     ]
    }
   ],
   "source": [
    "process()"
   ]
  },
  {
   "cell_type": "code",
   "execution_count": null,
   "id": "6126e260-63fe-4378-9137-a1547a8be4cb",
   "metadata": {},
   "outputs": [],
   "source": []
  }
 ],
 "metadata": {
  "kernelspec": {
   "display_name": "Python 3 (ipykernel)",
   "language": "python",
   "name": "python3"
  },
  "language_info": {
   "codemirror_mode": {
    "name": "ipython",
    "version": 3
   },
   "file_extension": ".py",
   "mimetype": "text/x-python",
   "name": "python",
   "nbconvert_exporter": "python",
   "pygments_lexer": "ipython3",
   "version": "3.11.7"
  }
 },
 "nbformat": 4,
 "nbformat_minor": 5
}
